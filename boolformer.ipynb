{
 "cells": [
  {
   "cell_type": "code",
   "execution_count": 1,
   "metadata": {},
   "outputs": [],
   "source": [
    "import gdown\n",
    "import os\n",
    "import torch\n",
    "import src\n",
    "import notebooks\n",
    "from notebooks.notebook_utils import *"
   ]
  },
  {
   "cell_type": "code",
   "execution_count": 2,
   "metadata": {},
   "outputs": [
    {
     "data": {
      "text/plain": [
       "'/data/wellawatte/catalysis_xai/boolformer/boolformer'"
      ]
     },
     "execution_count": 2,
     "metadata": {},
     "output_type": "execute_result"
    }
   ],
   "source": [
    "pwd"
   ]
  },
  {
   "cell_type": "markdown",
   "metadata": {},
   "source": [
    "# Noiseless model"
   ]
  },
  {
   "cell_type": "code",
   "execution_count": 2,
   "metadata": {},
   "outputs": [
    {
     "name": "stderr",
     "output_type": "stream",
     "text": [
      "Downloading...\n",
      "From (uriginal): https://drive.google.com/uc?id=1cULlE16yKBqUZMMGv7CC5fgHXXJ7OQQQ\n",
      "From (redirected): https://drive.google.com/uc?id=1cULlE16yKBqUZMMGv7CC5fgHXXJ7OQQQ&confirm=t&uuid=1664ad03-5e85-4606-a8b6-51a012400b95\n",
      "To: /data/wellawatte/catalysis_xai/boolformer/boolformer/boolformer_noiseless.pt\n",
      "100%|██████████| 434M/434M [00:10<00:00, 39.5MB/s] \n"
     ]
    },
    {
     "name": "stdout",
     "output_type": "stream",
     "text": [
      "Loaded pretrained model\n"
     ]
    }
   ],
   "source": [
    "model_path = \"boolformer_noiseless.pt\" \n",
    "if not os.path.exists(model_path):\n",
    "    url = \"https://drive.google.com/uc?id=1cULlE16yKBqUZMMGv7CC5fgHXXJ7OQQQ\"\n",
    "    gdown.download(url, model_path, quiet=False)\n",
    "boolformer = torch.load(model_path)\n",
    "env = boolformer.env\n",
    "print(\"Loaded pretrained model\")"
   ]
  },
  {
   "cell_type": "code",
   "execution_count": null,
   "metadata": {},
   "outputs": [],
   "source": []
  },
  {
   "cell_type": "markdown",
   "metadata": {},
   "source": [
    "# Noisy model - for chem models (uncertain answers)"
   ]
  },
  {
   "cell_type": "code",
   "execution_count": 2,
   "metadata": {},
   "outputs": [
    {
     "name": "stdout",
     "output_type": "stream",
     "text": [
      "Loaded pretrained model\n"
     ]
    }
   ],
   "source": [
    "model_path = \"boolformer_noisy.pt\" \n",
    "if not os.path.exists(model_path):\n",
    "    url = \"https://drive.google.com/uc?id=1IFSc_sHfiTckMy-cwggvVMBH1YgXas8G\"\n",
    "    gdown.download(url, model_path, quiet=False)\n",
    "boolformer = torch.load(model_path)\n",
    "env = boolformer.env\n",
    "print(\"Loaded pretrained model\")"
   ]
  },
  {
   "cell_type": "code",
   "execution_count": 5,
   "metadata": {},
   "outputs": [
    {
     "name": "stdout",
     "output_type": "stream",
     "text": [
      "Problem: other\n"
     ]
    },
    {
     "name": "stderr",
     "output_type": "stream",
     "text": [
      "  0%|          | 0/5 [00:00<?, ?it/s]"
     ]
    },
    {
     "name": "stdout",
     "output_type": "stream",
     "text": [
      "Best f1: 0.699, acc: 0.728, complexity: 0\n",
      "[$\\substack{\\text{Presence of} \\\\ \\text{a C} \\\\ \\text{bonded to} \\\\ \\text{two O} \\\\ \\text{atoms}}$ ]\n"
     ]
    },
    {
     "data": {
      "text/latex": [
       "$\\displaystyle bit_{123}$"
      ],
      "text/plain": [
       "bit123"
      ]
     },
     "metadata": {},
     "output_type": "display_data"
    },
    {
     "name": "stderr",
     "output_type": "stream",
     "text": [
      " 20%|██        | 1/5 [00:02<00:08,  2.17s/it]"
     ]
    },
    {
     "name": "stdout",
     "output_type": "stream",
     "text": [
      "Best f1: 0.690, acc: 0.738, complexity: 1\n",
      "[$\\mathrm{and}$ [$\\substack{\\text{Presence of} \\\\ \\text{a C=O} \\\\ \\text{double bond}}$ ][$\\substack{\\text{Presence of} \\\\ \\text{an O} \\\\ \\text{with at} \\\\ \\text{least two} \\\\ \\text{chain bonds}}$ ]]\n"
     ]
    },
    {
     "data": {
      "text/latex": [
       "$\\displaystyle bit_{126} \\wedge bit_{154}$"
      ],
      "text/plain": [
       "bit126 & bit154"
      ]
     },
     "metadata": {},
     "output_type": "display_data"
    },
    {
     "name": "stderr",
     "output_type": "stream",
     "text": [
      " 40%|████      | 2/5 [00:05<00:07,  2.63s/it]"
     ]
    },
    {
     "name": "stdout",
     "output_type": "stream",
     "text": [
      "Best f1: 0.706, acc: 0.748, complexity: 3\n",
      "[$\\mathrm{not}$ [$\\mathrm{or}$ [$\\mathrm{not}$ [$\\substack{\\text{Presence of} \\\\ \\text{an O} \\\\ \\text{with at} \\\\ \\text{least two} \\\\ \\text{chain bonds}}$ ]][$\\substack{\\text{Presence of} \\\\ \\text{two heteroatoms,} \\\\ \\text{both attached} \\\\ \\text{to at} \\\\ \\text{least one} \\\\ \\text{H and} \\\\ \\text{seperated by} \\\\ \\text{any 3} \\\\ \\text{bonds}}$ ]]]\n"
     ]
    },
    {
     "data": {
      "text/latex": [
       "$\\displaystyle \\neg \\left(bit_{54} \\vee \\neg bit_{126}\\right)$"
      ],
      "text/plain": [
       "~(bit54 | ~bit126)"
      ]
     },
     "metadata": {},
     "output_type": "display_data"
    },
    {
     "name": "stderr",
     "output_type": "stream",
     "text": [
      " 60%|██████    | 3/5 [00:09<00:07,  3.53s/it]"
     ]
    },
    {
     "name": "stdout",
     "output_type": "stream",
     "text": [
      "Best f1: 0.713, acc: 0.786, complexity: 8\n",
      "[$\\mathrm{not}$ [$\\mathrm{or}$ [$\\substack{\\text{Presence of} \\\\ \\text{a hydroxy} \\\\ \\text{oxygen (OH)}}$ ][$\\mathrm{not}$ [$\\substack{\\text{Presence of} \\\\ \\text{an O} \\\\ \\text{with at} \\\\ \\text{least two} \\\\ \\text{chain bonds}}$ ]][$\\mathrm{and}$ [$\\mathrm{not}$ [$\\substack{\\text{Presence of} \\\\ \\text{a C=O} \\\\ \\text{double bond}}$ ]][$\\mathrm{or}$ [$\\mathrm{not}$ [$\\substack{\\text{Presence of} \\\\ \\text{a hydroxy} \\\\ \\text{oxygen (OH)}}$ ]][$\\substack{\\text{Presence of} \\\\ \\text{an O} \\\\ \\text{with at} \\\\ \\text{least two} \\\\ \\text{chain bonds}}$ ]]]]]\n"
     ]
    },
    {
     "data": {
      "text/latex": [
       "$\\displaystyle \\neg \\left(bit_{139} \\vee \\left(\\neg bit_{154} \\wedge \\left(bit_{126} \\vee \\neg bit_{139}\\right)\\right) \\vee \\neg bit_{126}\\right)$"
      ],
      "text/plain": [
       "~(bit139 | ~bit126 | (~bit154 & (bit126 | ~bit139)))"
      ]
     },
     "metadata": {},
     "output_type": "display_data"
    },
    {
     "name": "stderr",
     "output_type": "stream",
     "text": [
      " 80%|████████  | 4/5 [00:15<00:04,  4.34s/it]"
     ]
    },
    {
     "name": "stdout",
     "output_type": "stream",
     "text": [
      "Best f1: 0.691, acc: 0.766, complexity: 7\n",
      "[$\\mathrm{not}$ [$\\mathrm{or}$ [$\\mathrm{not}$ [$\\substack{\\text{Presence of} \\\\ \\text{an O} \\\\ \\text{with at} \\\\ \\text{least two} \\\\ \\text{chain bonds}}$ ]][$\\substack{\\text{Presence of} \\\\ \\text{an atom} \\\\ \\text{bonded to} \\\\ \\text{an N} \\\\ \\text{and two} \\\\ \\text{other atoms}}$ ][$\\mathrm{not}$ [$\\mathrm{or}$ [$\\substack{\\text{Presence of} \\\\ \\text{a C=O} \\\\ \\text{double bond}}$ ][$\\mathrm{and}$ [$\\substack{\\text{Presence of} \\\\ \\text{an O} \\\\ \\text{with at} \\\\ \\text{least two} \\\\ \\text{chain bonds}}$ ][$\\substack{\\text{Presence of} \\\\ \\text{an atom} \\\\ \\text{bonded to} \\\\ \\text{an N} \\\\ \\text{and two} \\\\ \\text{other atoms}}$ ]]]]]]\n"
     ]
    },
    {
     "data": {
      "text/latex": [
       "$\\displaystyle \\neg \\left(bit_{156} \\vee \\neg bit_{126} \\vee \\neg \\left(bit_{154} \\vee \\left(bit_{126} \\wedge bit_{156}\\right)\\right)\\right)$"
      ],
      "text/plain": [
       "~(bit156 | ~bit126 | ~(bit154 | (bit126 & bit156)))"
      ]
     },
     "metadata": {},
     "output_type": "display_data"
    },
    {
     "name": "stderr",
     "output_type": "stream",
     "text": [
      "100%|██████████| 5/5 [00:23<00:00,  4.68s/it]\n"
     ]
    },
    {
     "data": {
      "image/png": "[encoded data removed]",
      "text/plain": [
       "<Figure size 600x400 with 1 Axes>"
      ]
     },
     "metadata": {},
     "output_type": "display_data"
    }
   ],
   "source": [
    "from notebook_utils import *\n",
    "\n",
    "num_points = 100\n",
    "beam_size  = 20\n",
    "verbose = True\n",
    "num_points_arr = np.linspace(10,500,5).astype(int)\n",
    "#num_points_arr = [1,10,30]\n",
    "problems = ['other']#['TOX','BBB']\n",
    "fig, axarr = plt.subplots(1,len(problems),figsize=(6*len(problems),4))\n",
    "for ip, problem in enumerate(problems):\n",
    "    print('Problem:', problem, flush=True)\n",
    "    accs, f1s, accs_var, f1s_var = defaultdict(list), defaultdict(list), defaultdict(list), defaultdict(list)\n",
    "    for num_points in tqdm.tqdm(num_points_arr):\n",
    "        accs_tmp, f1s_tmp, trees = defaultdict(list), defaultdict(list), []\n",
    "        for seed in range(5):\n",
    "            acc, f1, tree = run_drug_discovery(boolformer, data_path='/data/wellawatte/catalysis_xai/boolformer/bool_data', \n",
    "                                               problem=problem, num_points=num_points, \n",
    "                                               num_test_points=500, num_features=env.params.max_inactive_vars, beam_size=beam_size, \n",
    "                                               verbose=False, balance=True,usr_set='fruity_MACCS.csv')\n",
    "            for k, v in acc.items(): accs_tmp[k].append(v)\n",
    "            for k, v in f1.items(): f1s_tmp[k].append(v)\n",
    "            trees.append(tree)\n",
    "        # tree with best acc\n",
    "        idx = np.argmax(f1s_tmp['Boolformer'])\n",
    "        best_tree = trees[idx]\n",
    "        best_f1, best_acc = f1s_tmp['Boolformer'][idx], accs_tmp['Boolformer'][idx]\n",
    "        if verbose:\n",
    "            print(f'Best f1: {best_f1:.3f}, acc: {best_acc:.3f}, complexity: {best_tree.get_n_ops()}')\n",
    "            #print(f\"[.${problem}$ \"+tree_to_latex(best_tree)+\"]\", flush=True)\n",
    "            #print(tree_to_latex(best_tree), flush=True)\n",
    "            #display(env.simplifier.get_simple_infix(best_tree, simplify_form='basic'))\n",
    "            latex_tree = tree_to_latex(best_tree)\n",
    "            latex_tree = format_drug_discovery(latex_tree, key_path = os.path.join('/data/wellawatte/catalysis_xai/boolformer/bool_data/' 'key_maccs.csv'), problem=problem)\n",
    "            print(latex_tree, flush=True)\n",
    "            display(env.simplifier.get_simple_infix(best_tree, simplify_form='basic'))\n",
    "\n",
    "        for k, v in accs_tmp.items(): \n",
    "            accs[k].append(np.mean(v))\n",
    "            accs_var[k].append(np.std(v))\n",
    "        for k, v in f1s_tmp.items(): \n",
    "            f1s[k].append(np.mean(v))\n",
    "            f1s_var[k].append(np.std(v))\n",
    "\n",
    "    if len(problems)!=1: ax = axarr[ip]   \n",
    "    else: ax = axarr\n",
    "    for k, v in f1s.items():\n",
    "        ax.errorbar(num_points_arr, v,  label=k.replace('Classifier', ''))\n",
    "        ax.fill_between(num_points_arr, np.array(v)-np.array(f1s_var[k]), np.array(v)+np.array(f1s_var[k]), alpha=0.2)\n",
    "    ax.set_xlabel('Num points')\n",
    "    ax.set_title(problem)\n",
    "\n",
    "if len(problems)!=1: ax = axarr[0]   \n",
    "else: ax = axarr\n",
    "ax.set_ylabel('F1 score')\n",
    "ax.legend()\n",
    "plt.tight_layout()\n",
    "#plt.savefig(savedir+'drug_discovery_maccs.pdf')\n",
    "plt.show()\n",
    "\n"
   ]
  },
  {
   "cell_type": "code",
   "execution_count": null,
   "metadata": {},
   "outputs": [],
   "source": []
  }
 ],
 "metadata": {
  "kernelspec": {
   "display_name": "base",
   "language": "python",
   "name": "python3"
  },
  "language_info": {
   "codemirror_mode": {
    "name": "ipython",
    "version": 3
   },
   "file_extension": ".py",
   "mimetype": "text/x-python",
   "name": "python",
   "nbconvert_exporter": "python",
   "pygments_lexer": "ipython3",
   "version": "3.10.9"
  },
  "orig_nbformat": 4
 },
 "nbformat": 4,
 "nbformat_minor": 2
}
